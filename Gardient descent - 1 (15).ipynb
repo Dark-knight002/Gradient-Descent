{
 "cells": [
  {
   "cell_type": "code",
   "execution_count": 1,
   "metadata": {},
   "outputs": [],
   "source": [
    "import numpy as np\n",
    "import pandas as pd\n",
    "import matplotlib.pyplot as plt"
   ]
  },
  {
   "cell_type": "code",
   "execution_count": 2,
   "metadata": {},
   "outputs": [],
   "source": [
    "data = np.genfromtxt(r'C:\\Users\\DELL\\Downloads\\train3.csv', delimiter = ',')\n",
    "X_test = np.genfromtxt(r'C:\\Users\\DELL\\Downloads\\test3.csv',delimiter = ',')"
   ]
  },
  {
   "cell_type": "code",
   "execution_count": 3,
   "metadata": {},
   "outputs": [],
   "source": [
    "X_train = data[:,:-1]\n",
    "Y_train = data[:,-1]   \n",
    "\n",
    "coloumns = X_train.shape[1]\n",
    "\n",
    "\n",
    "    \n",
    "\n",
    "\n",
    "#adding multiplication of next row\n",
    "\n",
    "\n",
    "ones = np.ones(X_train.shape[0]).reshape(-1,1)\n",
    "X_train = np.append(X_train,ones,axis = 1)\n",
    "\n",
    "\n",
    "\n",
    "\n",
    "\n",
    "\n",
    "\n",
    "\n",
    "\n",
    "\n",
    "ones1 = np.ones(X_test.shape[0]).reshape(-1,1)\n",
    "X_test = np.append(X_test,ones1,axis = 1)\n",
    "\n",
    "\n",
    "\n",
    "    "
   ]
  },
  {
   "cell_type": "code",
   "execution_count": 4,
   "metadata": {},
   "outputs": [
    {
     "data": {
      "text/html": [
       "<div>\n",
       "<style scoped>\n",
       "    .dataframe tbody tr th:only-of-type {\n",
       "        vertical-align: middle;\n",
       "    }\n",
       "\n",
       "    .dataframe tbody tr th {\n",
       "        vertical-align: top;\n",
       "    }\n",
       "\n",
       "    .dataframe thead th {\n",
       "        text-align: right;\n",
       "    }\n",
       "</style>\n",
       "<table border=\"1\" class=\"dataframe\">\n",
       "  <thead>\n",
       "    <tr style=\"text-align: right;\">\n",
       "      <th></th>\n",
       "      <th>0</th>\n",
       "      <th>1</th>\n",
       "      <th>2</th>\n",
       "      <th>3</th>\n",
       "      <th>4</th>\n",
       "    </tr>\n",
       "  </thead>\n",
       "  <tbody>\n",
       "    <tr>\n",
       "      <th>0</th>\n",
       "      <td>8.58</td>\n",
       "      <td>38.38</td>\n",
       "      <td>1021.03</td>\n",
       "      <td>84.37</td>\n",
       "      <td>1.0</td>\n",
       "    </tr>\n",
       "    <tr>\n",
       "      <th>1</th>\n",
       "      <td>21.79</td>\n",
       "      <td>58.20</td>\n",
       "      <td>1017.21</td>\n",
       "      <td>66.74</td>\n",
       "      <td>1.0</td>\n",
       "    </tr>\n",
       "    <tr>\n",
       "      <th>2</th>\n",
       "      <td>16.64</td>\n",
       "      <td>48.92</td>\n",
       "      <td>1011.55</td>\n",
       "      <td>78.76</td>\n",
       "      <td>1.0</td>\n",
       "    </tr>\n",
       "    <tr>\n",
       "      <th>3</th>\n",
       "      <td>31.38</td>\n",
       "      <td>71.32</td>\n",
       "      <td>1009.17</td>\n",
       "      <td>60.42</td>\n",
       "      <td>1.0</td>\n",
       "    </tr>\n",
       "    <tr>\n",
       "      <th>4</th>\n",
       "      <td>9.20</td>\n",
       "      <td>40.03</td>\n",
       "      <td>1017.05</td>\n",
       "      <td>92.46</td>\n",
       "      <td>1.0</td>\n",
       "    </tr>\n",
       "  </tbody>\n",
       "</table>\n",
       "</div>"
      ],
      "text/plain": [
       "       0      1        2      3    4\n",
       "0   8.58  38.38  1021.03  84.37  1.0\n",
       "1  21.79  58.20  1017.21  66.74  1.0\n",
       "2  16.64  48.92  1011.55  78.76  1.0\n",
       "3  31.38  71.32  1009.17  60.42  1.0\n",
       "4   9.20  40.03  1017.05  92.46  1.0"
      ]
     },
     "execution_count": 4,
     "metadata": {},
     "output_type": "execute_result"
    }
   ],
   "source": [
    "data1 = pd.DataFrame(X_train)\n",
    "data1.head()"
   ]
  },
  {
   "cell_type": "code",
   "execution_count": 5,
   "metadata": {},
   "outputs": [
    {
     "data": {
      "text/html": [
       "<div>\n",
       "<style scoped>\n",
       "    .dataframe tbody tr th:only-of-type {\n",
       "        vertical-align: middle;\n",
       "    }\n",
       "\n",
       "    .dataframe tbody tr th {\n",
       "        vertical-align: top;\n",
       "    }\n",
       "\n",
       "    .dataframe thead th {\n",
       "        text-align: right;\n",
       "    }\n",
       "</style>\n",
       "<table border=\"1\" class=\"dataframe\">\n",
       "  <thead>\n",
       "    <tr style=\"text-align: right;\">\n",
       "      <th></th>\n",
       "      <th>0</th>\n",
       "      <th>1</th>\n",
       "      <th>2</th>\n",
       "      <th>3</th>\n",
       "      <th>4</th>\n",
       "    </tr>\n",
       "  </thead>\n",
       "  <tbody>\n",
       "    <tr>\n",
       "      <th>0</th>\n",
       "      <td>11.95</td>\n",
       "      <td>42.03</td>\n",
       "      <td>1017.58</td>\n",
       "      <td>90.89</td>\n",
       "      <td>1.0</td>\n",
       "    </tr>\n",
       "    <tr>\n",
       "      <th>1</th>\n",
       "      <td>12.07</td>\n",
       "      <td>38.25</td>\n",
       "      <td>1012.67</td>\n",
       "      <td>81.66</td>\n",
       "      <td>1.0</td>\n",
       "    </tr>\n",
       "    <tr>\n",
       "      <th>2</th>\n",
       "      <td>26.91</td>\n",
       "      <td>74.99</td>\n",
       "      <td>1005.64</td>\n",
       "      <td>78.98</td>\n",
       "      <td>1.0</td>\n",
       "    </tr>\n",
       "    <tr>\n",
       "      <th>3</th>\n",
       "      <td>20.58</td>\n",
       "      <td>39.53</td>\n",
       "      <td>1005.68</td>\n",
       "      <td>62.09</td>\n",
       "      <td>1.0</td>\n",
       "    </tr>\n",
       "    <tr>\n",
       "      <th>4</th>\n",
       "      <td>16.78</td>\n",
       "      <td>37.20</td>\n",
       "      <td>1011.97</td>\n",
       "      <td>68.94</td>\n",
       "      <td>1.0</td>\n",
       "    </tr>\n",
       "  </tbody>\n",
       "</table>\n",
       "</div>"
      ],
      "text/plain": [
       "       0      1        2      3    4\n",
       "0  11.95  42.03  1017.58  90.89  1.0\n",
       "1  12.07  38.25  1012.67  81.66  1.0\n",
       "2  26.91  74.99  1005.64  78.98  1.0\n",
       "3  20.58  39.53  1005.68  62.09  1.0\n",
       "4  16.78  37.20  1011.97  68.94  1.0"
      ]
     },
     "execution_count": 5,
     "metadata": {},
     "output_type": "execute_result"
    }
   ],
   "source": [
    "df = pd.DataFrame(X_test)\n",
    "df.head()"
   ]
  },
  {
   "cell_type": "code",
   "execution_count": 6,
   "metadata": {},
   "outputs": [],
   "source": [
    "def step_gradient(X_train,Y_train,m,j,learning_rate):\n",
    "    m_slope = 0\n",
    "    \n",
    "    M = X_train.shape[1]\n",
    "    \n",
    "    N = len(m)\n",
    "    for i in range(X_train.shape[0]):\n",
    "        x_i = X_train[i,:]\n",
    "        y_i = Y_train[i]\n",
    "        temp_sum = 0\n",
    "        \n",
    "        for k in range(N):\n",
    "            temp_sum += m[k]*x_i[k]\n",
    "        \n",
    "        temp_sum = y_i - temp_sum\n",
    "        \n",
    "        m_slope += (-2/M)*(temp_sum)*x_i[j]\n",
    "    \n",
    "    \n",
    "    m[j] = m[j] - (learning_rate*m_slope)\n",
    "    return m[j]\n",
    "\n",
    "         \n",
    "    "
   ]
  },
  {
   "cell_type": "code",
   "execution_count": 7,
   "metadata": {},
   "outputs": [],
   "source": [
    "def gradient(X_train,Y_train,num_of_iterations,learning_rate):\n",
    "    \n",
    "    m = np.zeros(X_train.shape[1])\n",
    "    \n",
    "    \n",
    "    for i in range(num_of_iterations):\n",
    "        for j in range(len(m)):\n",
    "            m[j] = step_gradient(X_train,Y_train,m,j,learning_rate)\n",
    "        \n",
    "    return m\n",
    "    "
   ]
  },
  {
   "cell_type": "code",
   "execution_count": 8,
   "metadata": {},
   "outputs": [],
   "source": [
    "def predict(X_test,m):\n",
    "    n_fts = X_test.shape[1]\n",
    "    n_m = np.array(m).reshape(n_fts,1)\n",
    "    \n",
    "    return np.dot(X_test,n_m)\n",
    "    "
   ]
  },
  {
   "cell_type": "code",
   "execution_count": 31,
   "metadata": {},
   "outputs": [],
   "source": [
    "def run():\n",
    "    num_of_iterations = 5000\n",
    "    learning_rate = 0.0000000006\n",
    "    m = gradient(X_train,Y_train,num_of_iterations,learning_rate)\n",
    "    \n",
    "    Y_predict = predict(X_test,m)\n",
    "    \n",
    "    print(Y_predict)\n",
    "    np.savetxt('pred.csv',Y_predict,fmt = '%.5f',delimiter = ',')\n",
    "    \n",
    "    \n",
    "    \n",
    "    \n",
    "    \n",
    " \n",
    "    "
   ]
  },
  {
   "cell_type": "code",
   "execution_count": 32,
   "metadata": {},
   "outputs": [
    {
     "name": "stdout",
     "output_type": "stream",
     "text": [
      "[[470.81107402]\n",
      " [469.299841  ]\n",
      " [435.09735373]\n",
      " ...\n",
      " [445.70040957]\n",
      " [459.0899791 ]\n",
      " [454.31099898]]\n"
     ]
    }
   ],
   "source": [
    "run()"
   ]
  },
  {
   "cell_type": "code",
   "execution_count": null,
   "metadata": {},
   "outputs": [],
   "source": []
  }
 ],
 "metadata": {
  "kernelspec": {
   "display_name": "Python 3",
   "language": "python",
   "name": "python3"
  },
  "language_info": {
   "codemirror_mode": {
    "name": "ipython",
    "version": 3
   },
   "file_extension": ".py",
   "mimetype": "text/x-python",
   "name": "python",
   "nbconvert_exporter": "python",
   "pygments_lexer": "ipython3",
   "version": "3.8.5"
  }
 },
 "nbformat": 4,
 "nbformat_minor": 4
}
